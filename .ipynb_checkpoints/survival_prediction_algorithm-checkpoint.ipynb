{
 "cells": [
  {
   "cell_type": "code",
   "execution_count": 1,
   "metadata": {},
   "outputs": [
    {
     "name": "stderr",
     "output_type": "stream",
     "text": [
      "C:\\Users\\SAKETH\\Anaconda3\\lib\\importlib\\_bootstrap.py:219: RuntimeWarning: numpy.ufunc size changed, may indicate binary incompatibility. Expected 192 from C header, got 216 from PyObject\n",
      "  return f(*args, **kwds)\n",
      "C:\\Users\\SAKETH\\Anaconda3\\lib\\importlib\\_bootstrap.py:219: RuntimeWarning: numpy.ufunc size changed, may indicate binary incompatibility. Expected 192 from C header, got 216 from PyObject\n",
      "  return f(*args, **kwds)\n",
      "C:\\Users\\SAKETH\\Anaconda3\\lib\\importlib\\_bootstrap.py:219: RuntimeWarning: numpy.ufunc size changed, may indicate binary incompatibility. Expected 192 from C header, got 216 from PyObject\n",
      "  return f(*args, **kwds)\n"
     ]
    }
   ],
   "source": [
    "import numpy as np\n",
    "import pandas as pd\n",
    "import matplotlib.pyplot as plt\n",
    "import seaborn as sns\n",
    "from sklearn.model_selection import train_test_split, GridSearchCV\n",
    "from sklearn.preprocessing import StandardScaler, OneHotEncoder, LabelEncoder\n",
    "from sklearn.impute import SimpleImputer\n",
    "from sklearn.base import BaseEstimator, TransformerMixin\n",
    "from sklearn.compose import ColumnTransformer\n",
    "from sklearn.pipeline import Pipeline\n",
    "from sklearn.linear_model import LogisticRegression\n",
    "from sklearn.svm import SVC\n",
    "from sklearn.neighbors import KNeighborsClassifier\n",
    "from sklearn.tree import DecisionTreeClassifier\n",
    "from sklearn.ensemble import RandomForestClassifier, VotingClassifier, BaggingClassifier\n",
    "from sklearn.metrics import *\n",
    "%matplotlib inline"
   ]
  },
  {
   "cell_type": "code",
   "execution_count": 2,
   "metadata": {},
   "outputs": [],
   "source": [
    "# A custom built class to ease the process of defining, training and evaluating different models to compare and get the \n",
    "# best model that scores high in the leaderboard.\n",
    "class StackModelClassifier:\n",
    "    def __init__(self, models=None):\n",
    "        self.models = {}\n",
    "        if len(models)>0:\n",
    "            for name, model, grid in models:\n",
    "                if grid is not None:\n",
    "                    self.models[name]=[GridSearchCV(model, param_grid=grid['param_grid'], cv=grid['cv'], scoring=grid['scoring'], \n",
    "                                                  refit=True), 0]\n",
    "                else:\n",
    "                    self.models[name]=[model, 0]\n",
    "    \n",
    "    def add(self, models):\n",
    "        '''\n",
    "            Adds a new model passed as argument into the existing stack of models\n",
    "            Inputs: \n",
    "            models = list(tuple(str, sklearn_model_class, dict(tuning parameters)))\n",
    "                str = custom name for the model\n",
    "                sklearn_model_class = Any of the sklearn models\n",
    "                tuning parameters = Arguments to be passed to GridSearchCV to tune the model given\n",
    "            Example,\n",
    "                models = [(\"log\", LogisticRegression(), dict(param_grid={\"Penalty\": ['l1', 'l2'], \n",
    "                                                                          \"C\": [0.001, 0.01, 0.1, 1]}, \n",
    "                                                              cv=3, \n",
    "                                                              scoring=\"f1_macro\")), \n",
    "                          (\"svm\", SVC(), dict(param_grid={\"Kernel\": ['linear', 'rbf'], \n",
    "                                                            \"C\": [0.001, 0.01, 0.1, 1]}, \n",
    "                                                cv=3, \n",
    "                                                scoring=\"f1_macro\")), \n",
    "                          (\"tree\", DecisionTreeClassifier(), None)]\n",
    "            see the Attribute models to view the added model and use it.\n",
    "        '''\n",
    "        tmp=0\n",
    "        for name, model, grid in models:\n",
    "                if grid is not None:\n",
    "                    self.models[name]=[GridSearchCV(model, param_grid=grid['param_grid'], cv=grid['cv'], scoring=grid['scoring'], \n",
    "                                                  refit=True), 0]\n",
    "                else:\n",
    "                    self.models[name]=[model, 0]\n",
    "                tmp+=1\n",
    "        print(f\"Successfully added {tmp} models to the stack\")\n",
    "        print(f\"Total models in the stack are : {len(self.models)}\")\n",
    "    \n",
    "    def train(self, X_train, y_train):\n",
    "        '''\n",
    "            Trains the models in the stact one after the other.\n",
    "            Trains each model only once no mattar how many times this method is called by the object.\n",
    "        '''\n",
    "        tmp=0\n",
    "        for model in self.models:\n",
    "            if self.models[model][1]==0:\n",
    "                self.models[model][0].fit(X_train, y_train)\n",
    "                print(f\"{model} is trained successfully\")\n",
    "                self.models[model][1] = -1\n",
    "                tmp+=1\n",
    "            elif self.models[model][1]==1:\n",
    "                self.models[model][0].fit(self.train_predictions[X_train_nl], y_train)\n",
    "                print(f\"{model} is trained successfully\")\n",
    "                self.models[model][1] = -2\n",
    "                tmp+=1\n",
    "            else:\n",
    "                print(f\"{model} is already in the trained models list. So ignoring this model in this iteration of training\")\n",
    "        print(f\"Trained {tmp} models in this iteration of training\")\n",
    "        \n",
    "    def evaluate(self, X_train, y_train, X_test=None, y_test=None, scoring=None):\n",
    "        '''\n",
    "            Evaluates the model on the training set with the specified scoring\n",
    "            If test sets are provided, the evaluation is performed both on train and test set\n",
    "            Default scoring is \"f1_macro\" for Classification and \"rmse\" for Regression problems\n",
    "        '''\n",
    "        self.scores_df = pd.DataFrame(data=None, columns=[\"Model\", \"Train_Test\", \"Scoring\", \"Score\"])\n",
    "        self.train_predictions = pd.DataFrame()\n",
    "        self.test_predictions = pd.DataFrame()\n",
    "        columns = []\n",
    "        for model in self.models:\n",
    "            columns.append(model)\n",
    "            if self.models[model][1]==-1:\n",
    "                self.train_predictions=pd.concat([self.train_predictions, \n",
    "                                                 pd.DataFrame(self.models[model][0].predict(X_train).reshape(-1,1))], axis=1)\n",
    "            else:\n",
    "                self.train_predictions=pd.concat([self.train_predictions, \n",
    "                                                 pd.DataFrame(self.models[model][0].predict(self.train_predictions[self.X_train_nl]).reshape(-1,1))], \n",
    "                                                axis=1)\n",
    "            self.train_predictions.columns = columns\n",
    "            if scoring is not None:\n",
    "                self.scores_df = self.scores_df.append(dict(Model=model, \n",
    "                                                               Train_Test='Train', \n",
    "                                                               Scoring=scoring.__name__, \n",
    "                                                               Score=scoring(y_train, \n",
    "                                                                             self.train_predictions[model].values.reshape(-1,1))), \n",
    "                                                          ignore_index=True)\n",
    "            else:\n",
    "                self.scores_df = self.scores_df.append(dict(Model=model, \n",
    "                                                               Train_Test='Train', \n",
    "                                                               Scoring='f1_score', \n",
    "                                                               Score=f1_score(y_train, \n",
    "                                                                              self.train_predictions[model].values.reshape(-1,1))), \n",
    "                                                          ignore_index=True)\n",
    "        columns.clear()\n",
    "        if X_test is not None and y_test is not None:\n",
    "            for model in self.models:\n",
    "                columns.append(model)\n",
    "                if self.models[model][1] == -1:\n",
    "                    self.test_predictions=pd.concat([self.test_predictions, \n",
    "                                                     pd.DataFrame(self.models[model][0].predict(X_test).reshape(-1,1))], axis=1)\n",
    "                else:\n",
    "                    self.test_predictions=pd.concat([self.test_predictions, \n",
    "                                                     pd.DataFrame(self.models[model][0].predict(X_test_predictions[self.X_test_nl]).reshape(-1,1))], \n",
    "                                                    axis=1)\n",
    "                self.test_predictions.columns = columns\n",
    "                if scoring is not None:\n",
    "                    self.scores_df = self.scores_df.append(dict(Model=model, \n",
    "                                                               Train_Test='Test', \n",
    "                                                               Scoring=scoring.__name__, \n",
    "                                                               Score=scoring(y_test, \n",
    "                                                                             self.test_predictions[model].values.reshape(-1,1))), \n",
    "                                                          ignore_index=True)\n",
    "                else:\n",
    "                    self.scores_df = self.scores_df.append(dict(Model=model, \n",
    "                                                                   Train_Test='Test', \n",
    "                                                                   Scoring='f1_score', \n",
    "                                                                   Score=f1_score(y_test, \n",
    "                                                                                  self.test_predictions[model].values.reshape(-1,1))), \n",
    "                                                          ignore_index=True)                                                        \n",
    "                            \n",
    "        columns.clear()\n",
    "        plt.figure(figsize=(10,8))\n",
    "        sns.set_style('darkgrid')\n",
    "        sns.barplot(data=self.scores_df, y='Model', x='Score', orient='h', hue='Train_Test')\n",
    "        plt.legend(loc=7, bbox_to_anchor=(1.12,0.96))        \n",
    "        plt.title(\"Models By Train and Test socres\\nScoringUsed: {}\".format(scoring.__name__ if scoring is not None else 'f1_score'))\n",
    "        plt.show()\n",
    "    \n",
    "    def evaluation_metrics(self, model, metrics):\n",
    "        '''\n",
    "            Get the detailed evaluation metrics for the selected model to view more insights\n",
    "            Inputs:\n",
    "            model = Custom name defined for your model while passing into the stack (To view, use self.models.keys())\n",
    "            metrics = sklearn.metrics methods you want to view.\n",
    "        '''\n",
    "        if model not in self.train_predictions.columns and model not in self.test_predictions.columns:\n",
    "            print(\"Please spell the model name correctly. Current models in your object are\")\n",
    "            print(list(self.models.keys()))\n",
    "        else:\n",
    "            print(\"_\"*20+f\"{metrics.__name__} on Train data\"+\"_\"*20)\n",
    "            print(metrics(y_train, self.train_predictions[model].values.reshape(-1,1)))\n",
    "            if model in self.test_predictions.columns:\n",
    "                print(\"_\"*20+f\"{metrics.__name__} on Test data\"+\"_\"*20)\n",
    "                print(metrics(y_test, self.test_predictions[model].values.reshape(-1,1)))\n",
    "    \n",
    "    def ensemble_models(self, models, ensemble, **kwargs):\n",
    "        '''\n",
    "            Create selected ensemble of the models passed\n",
    "        '''\n",
    "        model_list=[]\n",
    "        for model in models:\n",
    "            model_list.append((model, self.models[model][0]))\n",
    "        print(model_list)\n",
    "        self.models[str(ensemble.__name__)+\"_\"+str(kwargs['voting'])]=[ensemble(model_list, **kwargs), 0]\n",
    "        \n",
    "    '''def retrain(self, X_train, y_train):\n",
    "        for model in self.models:\n",
    "            self.models[model][0].fit(X_train, y_train)\n",
    "            print(f\"{model} is trained successfully\")'''\n",
    "    \n",
    "    def add_stack_models(self, aggregators, models=None):\n",
    "        if models is None:\n",
    "            self.X_train_nl=self.train_predictions.columns\n",
    "            self.X_test_nl=self.test_predictions.columns if len(self.test_predictions.columns)!=0 else None\n",
    "        else:\n",
    "            self.X_train_nl=models\n",
    "            self.X_test_nl=models\n",
    "        self.add(aggregators)\n",
    "        \n",
    "    def predictions(self, X_test, models=None):\n",
    "        self.final_predictions = pd.DataFrame()\n",
    "        self.out_predictions = pd.DataFrame()\n",
    "        cols=[]\n",
    "        if models is None:\n",
    "            models=list(self.models.keys())\n",
    "        for model in self.models:\n",
    "            cols.append(model)\n",
    "            if self.models[model][1] == -1:\n",
    "                self.final_predictions=pd.concat([self.final_predictions, \n",
    "                                                 pd.DataFrame(self.models[model][0].predict(X_test).reshape(-1,1))], axis=1)\n",
    "                self.final_predictions.columns = cols\n",
    "        cols.clear()\n",
    "        for model in models:\n",
    "            if self.models[model][1] == -1:\n",
    "                cols.append(model)\n",
    "                self.out_predictions=pd.concat([self.out_predictions, \n",
    "                                                 pd.DataFrame(self.models[model][0].predict(X_test).reshape(-1,1))], axis=1)\n",
    "            elif self.models[model][1] == -2:\n",
    "                cols.append(model)\n",
    "                self.out_predictions=pd.concat([self.out_predictions, \n",
    "                                               pd.DataFrame(self.models[model][0].predict(self.final_predictions[models]).reshape(-1,1))], \n",
    "                                              axis=1)\n",
    "            else:\n",
    "                print(f\"The {model} is not trained. So ignoring this model\")\n",
    "            self.out_predictions.columns = cols\n",
    "    \n"
   ]
  },
  {
   "cell_type": "code",
   "execution_count": 4,
   "metadata": {},
   "outputs": [],
   "source": [
    "titanic_train = pd.read_csv(\"datasets/titanic_train.csv\", index_col=\"PassengerId\")\n",
    "titanic_test = pd.read_csv(\"datasets/titanic_test.csv\", index_col=\"PassengerId\")\n",
    "titanic_set = titanic_train.copy()"
   ]
  },
  {
   "cell_type": "code",
   "execution_count": 5,
   "metadata": {},
   "outputs": [
    {
     "data": {
      "text/html": [
       "<div>\n",
       "<style scoped>\n",
       "    .dataframe tbody tr th:only-of-type {\n",
       "        vertical-align: middle;\n",
       "    }\n",
       "\n",
       "    .dataframe tbody tr th {\n",
       "        vertical-align: top;\n",
       "    }\n",
       "\n",
       "    .dataframe thead th {\n",
       "        text-align: right;\n",
       "    }\n",
       "</style>\n",
       "<table border=\"1\" class=\"dataframe\">\n",
       "  <thead>\n",
       "    <tr style=\"text-align: right;\">\n",
       "      <th></th>\n",
       "      <th>Survived</th>\n",
       "      <th>Pclass</th>\n",
       "      <th>Name</th>\n",
       "      <th>Sex</th>\n",
       "      <th>Age</th>\n",
       "      <th>SibSp</th>\n",
       "      <th>Parch</th>\n",
       "      <th>Ticket</th>\n",
       "      <th>Fare</th>\n",
       "      <th>Cabin</th>\n",
       "      <th>Embarked</th>\n",
       "    </tr>\n",
       "    <tr>\n",
       "      <th>PassengerId</th>\n",
       "      <th></th>\n",
       "      <th></th>\n",
       "      <th></th>\n",
       "      <th></th>\n",
       "      <th></th>\n",
       "      <th></th>\n",
       "      <th></th>\n",
       "      <th></th>\n",
       "      <th></th>\n",
       "      <th></th>\n",
       "      <th></th>\n",
       "    </tr>\n",
       "  </thead>\n",
       "  <tbody>\n",
       "    <tr>\n",
       "      <td>1</td>\n",
       "      <td>0</td>\n",
       "      <td>3</td>\n",
       "      <td>Braund, Mr. Owen Harris</td>\n",
       "      <td>male</td>\n",
       "      <td>22.0</td>\n",
       "      <td>1</td>\n",
       "      <td>0</td>\n",
       "      <td>A/5 21171</td>\n",
       "      <td>7.2500</td>\n",
       "      <td>NaN</td>\n",
       "      <td>S</td>\n",
       "    </tr>\n",
       "    <tr>\n",
       "      <td>2</td>\n",
       "      <td>1</td>\n",
       "      <td>1</td>\n",
       "      <td>Cumings, Mrs. John Bradley (Florence Briggs Th...</td>\n",
       "      <td>female</td>\n",
       "      <td>38.0</td>\n",
       "      <td>1</td>\n",
       "      <td>0</td>\n",
       "      <td>PC 17599</td>\n",
       "      <td>71.2833</td>\n",
       "      <td>C85</td>\n",
       "      <td>C</td>\n",
       "    </tr>\n",
       "    <tr>\n",
       "      <td>3</td>\n",
       "      <td>1</td>\n",
       "      <td>3</td>\n",
       "      <td>Heikkinen, Miss. Laina</td>\n",
       "      <td>female</td>\n",
       "      <td>26.0</td>\n",
       "      <td>0</td>\n",
       "      <td>0</td>\n",
       "      <td>STON/O2. 3101282</td>\n",
       "      <td>7.9250</td>\n",
       "      <td>NaN</td>\n",
       "      <td>S</td>\n",
       "    </tr>\n",
       "    <tr>\n",
       "      <td>4</td>\n",
       "      <td>1</td>\n",
       "      <td>1</td>\n",
       "      <td>Futrelle, Mrs. Jacques Heath (Lily May Peel)</td>\n",
       "      <td>female</td>\n",
       "      <td>35.0</td>\n",
       "      <td>1</td>\n",
       "      <td>0</td>\n",
       "      <td>113803</td>\n",
       "      <td>53.1000</td>\n",
       "      <td>C123</td>\n",
       "      <td>S</td>\n",
       "    </tr>\n",
       "    <tr>\n",
       "      <td>5</td>\n",
       "      <td>0</td>\n",
       "      <td>3</td>\n",
       "      <td>Allen, Mr. William Henry</td>\n",
       "      <td>male</td>\n",
       "      <td>35.0</td>\n",
       "      <td>0</td>\n",
       "      <td>0</td>\n",
       "      <td>373450</td>\n",
       "      <td>8.0500</td>\n",
       "      <td>NaN</td>\n",
       "      <td>S</td>\n",
       "    </tr>\n",
       "    <tr>\n",
       "      <td>6</td>\n",
       "      <td>0</td>\n",
       "      <td>3</td>\n",
       "      <td>Moran, Mr. James</td>\n",
       "      <td>male</td>\n",
       "      <td>NaN</td>\n",
       "      <td>0</td>\n",
       "      <td>0</td>\n",
       "      <td>330877</td>\n",
       "      <td>8.4583</td>\n",
       "      <td>NaN</td>\n",
       "      <td>Q</td>\n",
       "    </tr>\n",
       "    <tr>\n",
       "      <td>7</td>\n",
       "      <td>0</td>\n",
       "      <td>1</td>\n",
       "      <td>McCarthy, Mr. Timothy J</td>\n",
       "      <td>male</td>\n",
       "      <td>54.0</td>\n",
       "      <td>0</td>\n",
       "      <td>0</td>\n",
       "      <td>17463</td>\n",
       "      <td>51.8625</td>\n",
       "      <td>E46</td>\n",
       "      <td>S</td>\n",
       "    </tr>\n",
       "    <tr>\n",
       "      <td>8</td>\n",
       "      <td>0</td>\n",
       "      <td>3</td>\n",
       "      <td>Palsson, Master. Gosta Leonard</td>\n",
       "      <td>male</td>\n",
       "      <td>2.0</td>\n",
       "      <td>3</td>\n",
       "      <td>1</td>\n",
       "      <td>349909</td>\n",
       "      <td>21.0750</td>\n",
       "      <td>NaN</td>\n",
       "      <td>S</td>\n",
       "    </tr>\n",
       "    <tr>\n",
       "      <td>9</td>\n",
       "      <td>1</td>\n",
       "      <td>3</td>\n",
       "      <td>Johnson, Mrs. Oscar W (Elisabeth Vilhelmina Berg)</td>\n",
       "      <td>female</td>\n",
       "      <td>27.0</td>\n",
       "      <td>0</td>\n",
       "      <td>2</td>\n",
       "      <td>347742</td>\n",
       "      <td>11.1333</td>\n",
       "      <td>NaN</td>\n",
       "      <td>S</td>\n",
       "    </tr>\n",
       "    <tr>\n",
       "      <td>10</td>\n",
       "      <td>1</td>\n",
       "      <td>2</td>\n",
       "      <td>Nasser, Mrs. Nicholas (Adele Achem)</td>\n",
       "      <td>female</td>\n",
       "      <td>14.0</td>\n",
       "      <td>1</td>\n",
       "      <td>0</td>\n",
       "      <td>237736</td>\n",
       "      <td>30.0708</td>\n",
       "      <td>NaN</td>\n",
       "      <td>C</td>\n",
       "    </tr>\n",
       "  </tbody>\n",
       "</table>\n",
       "</div>"
      ],
      "text/plain": [
       "             Survived  Pclass  \\\n",
       "PassengerId                     \n",
       "1                   0       3   \n",
       "2                   1       1   \n",
       "3                   1       3   \n",
       "4                   1       1   \n",
       "5                   0       3   \n",
       "6                   0       3   \n",
       "7                   0       1   \n",
       "8                   0       3   \n",
       "9                   1       3   \n",
       "10                  1       2   \n",
       "\n",
       "                                                          Name     Sex   Age  \\\n",
       "PassengerId                                                                    \n",
       "1                                      Braund, Mr. Owen Harris    male  22.0   \n",
       "2            Cumings, Mrs. John Bradley (Florence Briggs Th...  female  38.0   \n",
       "3                                       Heikkinen, Miss. Laina  female  26.0   \n",
       "4                 Futrelle, Mrs. Jacques Heath (Lily May Peel)  female  35.0   \n",
       "5                                     Allen, Mr. William Henry    male  35.0   \n",
       "6                                             Moran, Mr. James    male   NaN   \n",
       "7                                      McCarthy, Mr. Timothy J    male  54.0   \n",
       "8                               Palsson, Master. Gosta Leonard    male   2.0   \n",
       "9            Johnson, Mrs. Oscar W (Elisabeth Vilhelmina Berg)  female  27.0   \n",
       "10                         Nasser, Mrs. Nicholas (Adele Achem)  female  14.0   \n",
       "\n",
       "             SibSp  Parch            Ticket     Fare Cabin Embarked  \n",
       "PassengerId                                                          \n",
       "1                1      0         A/5 21171   7.2500   NaN        S  \n",
       "2                1      0          PC 17599  71.2833   C85        C  \n",
       "3                0      0  STON/O2. 3101282   7.9250   NaN        S  \n",
       "4                1      0            113803  53.1000  C123        S  \n",
       "5                0      0            373450   8.0500   NaN        S  \n",
       "6                0      0            330877   8.4583   NaN        Q  \n",
       "7                0      0             17463  51.8625   E46        S  \n",
       "8                3      1            349909  21.0750   NaN        S  \n",
       "9                0      2            347742  11.1333   NaN        S  \n",
       "10               1      0            237736  30.0708   NaN        C  "
      ]
     },
     "execution_count": 5,
     "metadata": {},
     "output_type": "execute_result"
    }
   ],
   "source": [
    "titanic_set.head(10)"
   ]
  },
  {
   "cell_type": "code",
   "execution_count": 6,
   "metadata": {},
   "outputs": [
    {
     "name": "stdout",
     "output_type": "stream",
     "text": [
      "<class 'pandas.core.frame.DataFrame'>\n",
      "Int64Index: 891 entries, 1 to 891\n",
      "Data columns (total 11 columns):\n",
      "Survived    891 non-null int64\n",
      "Pclass      891 non-null int64\n",
      "Name        891 non-null object\n",
      "Sex         891 non-null object\n",
      "Age         714 non-null float64\n",
      "SibSp       891 non-null int64\n",
      "Parch       891 non-null int64\n",
      "Ticket      891 non-null object\n",
      "Fare        891 non-null float64\n",
      "Cabin       204 non-null object\n",
      "Embarked    889 non-null object\n",
      "dtypes: float64(2), int64(4), object(5)\n",
      "memory usage: 83.5+ KB\n"
     ]
    }
   ],
   "source": [
    "titanic_set.info()"
   ]
  },
  {
   "cell_type": "code",
   "execution_count": 7,
   "metadata": {},
   "outputs": [
    {
     "data": {
      "text/html": [
       "<div>\n",
       "<style scoped>\n",
       "    .dataframe tbody tr th:only-of-type {\n",
       "        vertical-align: middle;\n",
       "    }\n",
       "\n",
       "    .dataframe tbody tr th {\n",
       "        vertical-align: top;\n",
       "    }\n",
       "\n",
       "    .dataframe thead th {\n",
       "        text-align: right;\n",
       "    }\n",
       "</style>\n",
       "<table border=\"1\" class=\"dataframe\">\n",
       "  <thead>\n",
       "    <tr style=\"text-align: right;\">\n",
       "      <th></th>\n",
       "      <th>Survived</th>\n",
       "      <th>Pclass</th>\n",
       "      <th>Age</th>\n",
       "      <th>SibSp</th>\n",
       "      <th>Parch</th>\n",
       "      <th>Fare</th>\n",
       "    </tr>\n",
       "  </thead>\n",
       "  <tbody>\n",
       "    <tr>\n",
       "      <td>count</td>\n",
       "      <td>891.000000</td>\n",
       "      <td>891.000000</td>\n",
       "      <td>714.000000</td>\n",
       "      <td>891.000000</td>\n",
       "      <td>891.000000</td>\n",
       "      <td>891.000000</td>\n",
       "    </tr>\n",
       "    <tr>\n",
       "      <td>mean</td>\n",
       "      <td>0.383838</td>\n",
       "      <td>2.308642</td>\n",
       "      <td>29.699118</td>\n",
       "      <td>0.523008</td>\n",
       "      <td>0.381594</td>\n",
       "      <td>32.204208</td>\n",
       "    </tr>\n",
       "    <tr>\n",
       "      <td>std</td>\n",
       "      <td>0.486592</td>\n",
       "      <td>0.836071</td>\n",
       "      <td>14.526497</td>\n",
       "      <td>1.102743</td>\n",
       "      <td>0.806057</td>\n",
       "      <td>49.693429</td>\n",
       "    </tr>\n",
       "    <tr>\n",
       "      <td>min</td>\n",
       "      <td>0.000000</td>\n",
       "      <td>1.000000</td>\n",
       "      <td>0.420000</td>\n",
       "      <td>0.000000</td>\n",
       "      <td>0.000000</td>\n",
       "      <td>0.000000</td>\n",
       "    </tr>\n",
       "    <tr>\n",
       "      <td>25%</td>\n",
       "      <td>0.000000</td>\n",
       "      <td>2.000000</td>\n",
       "      <td>20.125000</td>\n",
       "      <td>0.000000</td>\n",
       "      <td>0.000000</td>\n",
       "      <td>7.910400</td>\n",
       "    </tr>\n",
       "    <tr>\n",
       "      <td>50%</td>\n",
       "      <td>0.000000</td>\n",
       "      <td>3.000000</td>\n",
       "      <td>28.000000</td>\n",
       "      <td>0.000000</td>\n",
       "      <td>0.000000</td>\n",
       "      <td>14.454200</td>\n",
       "    </tr>\n",
       "    <tr>\n",
       "      <td>75%</td>\n",
       "      <td>1.000000</td>\n",
       "      <td>3.000000</td>\n",
       "      <td>38.000000</td>\n",
       "      <td>1.000000</td>\n",
       "      <td>0.000000</td>\n",
       "      <td>31.000000</td>\n",
       "    </tr>\n",
       "    <tr>\n",
       "      <td>max</td>\n",
       "      <td>1.000000</td>\n",
       "      <td>3.000000</td>\n",
       "      <td>80.000000</td>\n",
       "      <td>8.000000</td>\n",
       "      <td>6.000000</td>\n",
       "      <td>512.329200</td>\n",
       "    </tr>\n",
       "  </tbody>\n",
       "</table>\n",
       "</div>"
      ],
      "text/plain": [
       "         Survived      Pclass         Age       SibSp       Parch        Fare\n",
       "count  891.000000  891.000000  714.000000  891.000000  891.000000  891.000000\n",
       "mean     0.383838    2.308642   29.699118    0.523008    0.381594   32.204208\n",
       "std      0.486592    0.836071   14.526497    1.102743    0.806057   49.693429\n",
       "min      0.000000    1.000000    0.420000    0.000000    0.000000    0.000000\n",
       "25%      0.000000    2.000000   20.125000    0.000000    0.000000    7.910400\n",
       "50%      0.000000    3.000000   28.000000    0.000000    0.000000   14.454200\n",
       "75%      1.000000    3.000000   38.000000    1.000000    0.000000   31.000000\n",
       "max      1.000000    3.000000   80.000000    8.000000    6.000000  512.329200"
      ]
     },
     "execution_count": 7,
     "metadata": {},
     "output_type": "execute_result"
    }
   ],
   "source": [
    "titanic_set.describe()"
   ]
  },
  {
   "cell_type": "code",
   "execution_count": 8,
   "metadata": {},
   "outputs": [
    {
     "data": {
      "text/html": [
       "<div>\n",
       "<style scoped>\n",
       "    .dataframe tbody tr th:only-of-type {\n",
       "        vertical-align: middle;\n",
       "    }\n",
       "\n",
       "    .dataframe tbody tr th {\n",
       "        vertical-align: top;\n",
       "    }\n",
       "\n",
       "    .dataframe thead th {\n",
       "        text-align: right;\n",
       "    }\n",
       "</style>\n",
       "<table border=\"1\" class=\"dataframe\">\n",
       "  <thead>\n",
       "    <tr style=\"text-align: right;\">\n",
       "      <th></th>\n",
       "      <th>Name</th>\n",
       "      <th>Sex</th>\n",
       "      <th>Ticket</th>\n",
       "      <th>Cabin</th>\n",
       "      <th>Embarked</th>\n",
       "    </tr>\n",
       "  </thead>\n",
       "  <tbody>\n",
       "    <tr>\n",
       "      <td>count</td>\n",
       "      <td>891</td>\n",
       "      <td>891</td>\n",
       "      <td>891</td>\n",
       "      <td>204</td>\n",
       "      <td>889</td>\n",
       "    </tr>\n",
       "    <tr>\n",
       "      <td>unique</td>\n",
       "      <td>891</td>\n",
       "      <td>2</td>\n",
       "      <td>681</td>\n",
       "      <td>147</td>\n",
       "      <td>3</td>\n",
       "    </tr>\n",
       "    <tr>\n",
       "      <td>top</td>\n",
       "      <td>Lobb, Mrs. William Arthur (Cordelia K Stanlick)</td>\n",
       "      <td>male</td>\n",
       "      <td>CA. 2343</td>\n",
       "      <td>B96 B98</td>\n",
       "      <td>S</td>\n",
       "    </tr>\n",
       "    <tr>\n",
       "      <td>freq</td>\n",
       "      <td>1</td>\n",
       "      <td>577</td>\n",
       "      <td>7</td>\n",
       "      <td>4</td>\n",
       "      <td>644</td>\n",
       "    </tr>\n",
       "  </tbody>\n",
       "</table>\n",
       "</div>"
      ],
      "text/plain": [
       "                                                   Name   Sex    Ticket  \\\n",
       "count                                               891   891       891   \n",
       "unique                                              891     2       681   \n",
       "top     Lobb, Mrs. William Arthur (Cordelia K Stanlick)  male  CA. 2343   \n",
       "freq                                                  1   577         7   \n",
       "\n",
       "          Cabin Embarked  \n",
       "count       204      889  \n",
       "unique      147        3  \n",
       "top     B96 B98        S  \n",
       "freq          4      644  "
      ]
     },
     "execution_count": 8,
     "metadata": {},
     "output_type": "execute_result"
    }
   ],
   "source": [
    "titanic_set.describe(include=[np.object])"
   ]
  },
  {
   "cell_type": "code",
   "execution_count": 11,
   "metadata": {},
   "outputs": [
    {
     "data": {
      "text/plain": [
       "<Figure size 720x576 with 0 Axes>"
      ]
     },
     "metadata": {},
     "output_type": "display_data"
    },
    {
     "data": {
      "image/png": "[encoded data removed]",
      "text/plain": [
       "<Figure size 648x432 with 6 Axes>"
      ]
     },
     "metadata": {
      "needs_background": "light"
     },
     "output_type": "display_data"
    }
   ],
   "source": [
    "plt.figure(figsize = (10,8))\n",
    "sns.FacetGrid(data=titanic_set, row='Sex', col='Pclass').map(sns.countplot, \"Survived\")\n",
    "plt.show()"
   ]
  },
  {
   "cell_type": "code",
   "execution_count": 12,
   "metadata": {},
   "outputs": [
    {
     "data": {
      "image/png": "[encoded data removed]",
      "text/plain": [
       "<Figure size 720x360 with 1 Axes>"
      ]
     },
     "metadata": {
      "needs_background": "light"
     },
     "output_type": "display_data"
    }
   ],
   "source": [
    "sns.FacetGrid(data=titanic_set, hue=\"Survived\", height=5, aspect=2).map(sns.kdeplot, \"Age\")\n",
    "plt.legend()\n",
    "plt.title(\"Distribution of Age by Survived\")\n",
    "plt.show()"
   ]
  },
  {
   "cell_type": "code",
   "execution_count": 13,
   "metadata": {},
   "outputs": [
    {
     "data": {
      "image/png": "[encoded data removed]",
      "text/plain": [
       "<Figure size 432x288 with 1 Axes>"
      ]
     },
     "metadata": {
      "needs_background": "light"
     },
     "output_type": "display_data"
    }
   ],
   "source": [
    "sns.countplot(data=titanic_set, x=\"SibSp\", hue=\"Survived\")\n",
    "plt.legend(loc='upper right')\n",
    "plt.title(\"Survived By Siblings & Spouse\")\n",
    "plt.show()"
   ]
  },
  {
   "cell_type": "code",
   "execution_count": 15,
   "metadata": {},
   "outputs": [
    {
     "data": {
      "image/png": "[encoded data removed]",
      "text/plain": [
       "<Figure size 432x288 with 1 Axes>"
      ]
     },
     "metadata": {
      "needs_background": "light"
     },
     "output_type": "display_data"
    }
   ],
   "source": [
    "sns.countplot(data=titanic_set, x=\"Parch\", hue=\"Survived\")\n",
    "plt.legend(loc='upper right')\n",
    "plt.title(\"Survived By Parent & Child\")\n",
    "plt.show()"
   ]
  },
  {
   "cell_type": "code",
   "execution_count": 16,
   "metadata": {},
   "outputs": [
    {
     "name": "stderr",
     "output_type": "stream",
     "text": [
      "C:\\Users\\SAKETH\\Anaconda3\\lib\\site-packages\\seaborn\\axisgrid.py:715: UserWarning: Using the pointplot function without specifying `order` is likely to produce an incorrect plot.\n",
      "  warnings.warn(warning)\n",
      "C:\\Users\\SAKETH\\Anaconda3\\lib\\site-packages\\seaborn\\axisgrid.py:720: UserWarning: Using the pointplot function without specifying `hue_order` is likely to produce an incorrect plot.\n",
      "  warnings.warn(warning)\n"
     ]
    },
    {
     "data": {
      "image/png": "[encoded data removed]",
      "text/plain": [
       "<Figure size 648x216 with 3 Axes>"
      ]
     },
     "metadata": {
      "needs_background": "light"
     },
     "output_type": "display_data"
    }
   ],
   "source": [
    "sns.FacetGrid(data=titanic_set, col=\"Pclass\").map(\n",
    "sns.pointplot, \"Embarked\", \"Survived\",\"Sex\")\n",
    "plt.legend()\n",
    "plt.show()"
   ]
  },
  {
   "cell_type": "code",
   "execution_count": 17,
   "metadata": {},
   "outputs": [
    {
     "data": {
      "image/png": "[encoded data removed]",
      "text/plain": [
       "<Figure size 720x360 with 1 Axes>"
      ]
     },
     "metadata": {
      "needs_background": "light"
     },
     "output_type": "display_data"
    }
   ],
   "source": [
    "sns.FacetGrid(data=titanic_set, hue=\"Survived\", height=5, aspect=2).map(sns.kdeplot, \"Fare\")\n",
    "plt.legend()\n",
    "plt.title(\"Fare distribution by Survived\")\n",
    "plt.show()"
   ]
  },
  {
   "cell_type": "code",
   "execution_count": 18,
   "metadata": {},
   "outputs": [],
   "source": [
    "# A function to add a new calculated column that tells the information whether a particular passenger on board is alone(1) or is\n",
    "# with his family members(0)\n",
    "def IsAlone(cols):\n",
    "    sibsp=cols[0]\n",
    "    parch=cols[1]\n",
    "    return int(sibsp+parch == 0)"
   ]
  },
  {
   "cell_type": "code",
   "execution_count": 19,
   "metadata": {},
   "outputs": [],
   "source": [
    "titanic_set['IsAlone'] = titanic_set[['SibSp', 'Parch']].apply(IsAlone, axis=1)"
   ]
  },
  {
   "cell_type": "code",
   "execution_count": 20,
   "metadata": {},
   "outputs": [
    {
     "data": {
      "image/png": "[encoded data removed]",
      "text/plain": [
       "<Figure size 432x288 with 1 Axes>"
      ]
     },
     "metadata": {
      "needs_background": "light"
     },
     "output_type": "display_data"
    }
   ],
   "source": [
    "sns.countplot(data=titanic_set, x=\"IsAlone\", hue=\"Survived\")\n",
    "plt.legend(loc='upper right')\n",
    "plt.title(\"Survived By IsAlone feature\")\n",
    "plt.show()"
   ]
  },
  {
   "cell_type": "code",
   "execution_count": 21,
   "metadata": {},
   "outputs": [],
   "source": [
    "# A function to add a new engineered feature which tells the title of a passneger basesd on the feature Name\n",
    "# Titles that are incorrectly spelled and those that occur in very less frequency are handled\n",
    "def ExtractTitle(Name):\n",
    "    title = Name.split(', ')[1].split('.')[0]\n",
    "    if title in [\"Miss\", \"Ms\", \"Mme\", \"Mlle\"]:\n",
    "        return \"Miss\"\n",
    "    elif title in [\"Mr\", \"Mrs\", \"Master\"]:\n",
    "        return title\n",
    "    else:\n",
    "        return \"Misc\""
   ]
  },
  {
   "cell_type": "code",
   "execution_count": 22,
   "metadata": {},
   "outputs": [],
   "source": [
    "titanic_set['Title'] = titanic_set['Name'].apply(ExtractTitle)"
   ]
  },
  {
   "cell_type": "code",
   "execution_count": 23,
   "metadata": {},
   "outputs": [
    {
     "data": {
      "text/plain": [
       "Mr        58.024691\n",
       "Miss      20.875421\n",
       "Mrs       14.029181\n",
       "Master     4.489338\n",
       "Misc       2.581369\n",
       "Name: Title, dtype: float64"
      ]
     },
     "execution_count": 23,
     "metadata": {},
     "output_type": "execute_result"
    }
   ],
   "source": [
    "100*titanic_set['Title'].value_counts()/len(titanic_set['Title'])"
   ]
  },
  {
   "cell_type": "code",
   "execution_count": 25,
   "metadata": {},
   "outputs": [
    {
     "data": {
      "text/plain": [
       "array([nan, 'C85', 'C123', 'E46', 'G6', 'C103', 'D56', 'A6',\n",
       "       'C23 C25 C27', 'B78', 'D33', 'B30', 'C52', 'B28', 'C83', 'F33',\n",
       "       'F G73', 'E31', 'A5', 'D10 D12', 'D26', 'C110', 'B58 B60', 'E101',\n",
       "       'F E69', 'D47', 'B86', 'F2', 'C2', 'E33', 'B19', 'A7', 'C49', 'F4',\n",
       "       'A32', 'B4', 'B80', 'A31', 'D36', 'D15', 'C93', 'C78', 'D35',\n",
       "       'C87', 'B77', 'E67', 'B94', 'C125', 'C99', 'C118', 'D7', 'A19',\n",
       "       'B49', 'D', 'C22 C26', 'C106', 'C65', 'E36', 'C54',\n",
       "       'B57 B59 B63 B66', 'C7', 'E34', 'C32', 'B18', 'C124', 'C91', 'E40',\n",
       "       'T', 'C128', 'D37', 'B35', 'E50', 'C82', 'B96 B98', 'E10', 'E44',\n",
       "       'A34', 'C104', 'C111', 'C92', 'E38', 'D21', 'E12', 'E63', 'A14',\n",
       "       'B37', 'C30', 'D20', 'B79', 'E25', 'D46', 'B73', 'C95', 'B38',\n",
       "       'B39', 'B22', 'C86', 'C70', 'A16', 'C101', 'C68', 'A10', 'E68',\n",
       "       'B41', 'A20', 'D19', 'D50', 'D9', 'A23', 'B50', 'A26', 'D48',\n",
       "       'E58', 'C126', 'B71', 'B51 B53 B55', 'D49', 'B5', 'B20', 'F G63',\n",
       "       'C62 C64', 'E24', 'C90', 'C45', 'E8', 'B101', 'D45', 'C46', 'D30',\n",
       "       'E121', 'D11', 'E77', 'F38', 'B3', 'D6', 'B82 B84', 'D17', 'A36',\n",
       "       'B102', 'B69', 'E49', 'C47', 'D28', 'E17', 'A24', 'C50', 'B42',\n",
       "       'C148'], dtype=object)"
      ]
     },
     "execution_count": 25,
     "metadata": {},
     "output_type": "execute_result"
    }
   ],
   "source": [
    "titanic_set['Cabin'].unique()"
   ]
  },
  {
   "cell_type": "code",
   "execution_count": 28,
   "metadata": {},
   "outputs": [],
   "source": [
    "# A function to extract the cabin first letter as a new feature overriding the cabin itself\n",
    "# A value T is also put as unknown (U) as it is rare and is not present in the test data set \n",
    "def cabin(cabin):\n",
    "    if pd.isnull(cabin) or cabin[0]==\"T\":\n",
    "        return \"U\"\n",
    "    else:\n",
    "        return cabin[0]"
   ]
  },
  {
   "cell_type": "code",
   "execution_count": 29,
   "metadata": {},
   "outputs": [],
   "source": [
    "titanic_set['Cabin'] = titanic_set['Cabin'].apply(cabin)"
   ]
  },
  {
   "cell_type": "code",
   "execution_count": 30,
   "metadata": {},
   "outputs": [
    {
     "data": {
      "text/plain": [
       "U    688\n",
       "C     59\n",
       "B     47\n",
       "D     33\n",
       "E     32\n",
       "A     15\n",
       "F     13\n",
       "G      4\n",
       "Name: Cabin, dtype: int64"
      ]
     },
     "execution_count": 30,
     "metadata": {},
     "output_type": "execute_result"
    }
   ],
   "source": [
    "titanic_set['Cabin'].value_counts()"
   ]
  },
  {
   "cell_type": "code",
   "execution_count": 37,
   "metadata": {},
   "outputs": [
    {
     "data": {
      "image/png": "[encoded data removed]",
      "text/plain": [
       "<Figure size 432x288 with 1 Axes>"
      ]
     },
     "metadata": {
      "needs_background": "light"
     },
     "output_type": "display_data"
    }
   ],
   "source": [
    "sns.pointplot(data=titanic_set, x=\"Cabin\", y=\"Survived\", hue=\"Sex\")\n",
    "plt.title(\"Survived By Cabin\")\n",
    "plt.legend(loc=7, bbox_to_anchor=[1.24,0.93])\n",
    "plt.show()"
   ]
  },
  {
   "cell_type": "code",
   "execution_count": 38,
   "metadata": {},
   "outputs": [
    {
     "data": {
      "text/plain": [
       "S    644\n",
       "C    168\n",
       "Q     77\n",
       "Name: Embarked, dtype: int64"
      ]
     },
     "execution_count": 38,
     "metadata": {},
     "output_type": "execute_result"
    }
   ],
   "source": [
    "titanic_set['Embarked'].value_counts()"
   ]
  },
  {
   "cell_type": "code",
   "execution_count": 39,
   "metadata": {},
   "outputs": [],
   "source": [
    "# A function to fill the missing embarked values - equivalent to imputing the most frequent value which is S\n",
    "def fill_embark(embarked):\n",
    "        if embarked == \"S\" or pd.isnull(embarked):\n",
    "            return \"S\"\n",
    "        else:\n",
    "            return embarked"
   ]
  },
  {
   "cell_type": "code",
   "execution_count": 41,
   "metadata": {},
   "outputs": [],
   "source": [
    "titanic_set['Embarked'] = titanic_set['Embarked'].apply(fill_embark)"
   ]
  },
  {
   "cell_type": "code",
   "execution_count": 42,
   "metadata": {},
   "outputs": [],
   "source": [
    "titanic_set['Age'] = titanic_set.groupby(['Sex', 'Pclass', 'Title']).Age.apply(lambda x:x.fillna(x.median()))"
   ]
  },
  {
   "cell_type": "code",
   "execution_count": 43,
   "metadata": {},
   "outputs": [],
   "source": [
    "# A function for binning the age into different groups based on the Survival rate as per the distribution plot\n",
    "def age_bins(age):\n",
    "        if age in range(0,19):\n",
    "            return 1\n",
    "        elif age in range(19,36):\n",
    "            return 2\n",
    "        elif age in range(36, 81):\n",
    "            return 3\n",
    "        elif age>=81:\n",
    "            return 4\n",
    "        else:\n",
    "            return 0"
   ]
  },
  {
   "cell_type": "code",
   "execution_count": 44,
   "metadata": {},
   "outputs": [],
   "source": [
    "titanic_set['Age'] = titanic_set['Age'].apply(age_bins)"
   ]
  },
  {
   "cell_type": "code",
   "execution_count": 45,
   "metadata": {},
   "outputs": [
    {
     "data": {
      "text/plain": [
       "2    458\n",
       "3    231\n",
       "1    168\n",
       "0     34\n",
       "Name: Age, dtype: int64"
      ]
     },
     "execution_count": 45,
     "metadata": {},
     "output_type": "execute_result"
    }
   ],
   "source": [
    "titanic_set['Age'].value_counts()"
   ]
  },
  {
   "cell_type": "code",
   "execution_count": 46,
   "metadata": {},
   "outputs": [
    {
     "data": {
      "image/png": "[encoded data removed]",
      "text/plain": [
       "<Figure size 432x288 with 1 Axes>"
      ]
     },
     "metadata": {
      "needs_background": "light"
     },
     "output_type": "display_data"
    }
   ],
   "source": [
    "sns.countplot(data=titanic_set, x='Age', hue=\"Survived\")\n",
    "plt.title(\"Survived by Age Groups\")\n",
    "plt.show()"
   ]
  },
  {
   "cell_type": "code",
   "execution_count": 47,
   "metadata": {},
   "outputs": [
    {
     "name": "stderr",
     "output_type": "stream",
     "text": [
      "C:\\Users\\SAKETH\\Anaconda3\\lib\\site-packages\\seaborn\\axisgrid.py:715: UserWarning: Using the countplot function without specifying `order` is likely to produce an incorrect plot.\n",
      "  warnings.warn(warning)\n"
     ]
    },
    {
     "data": {
      "image/png": "[encoded data removed]",
      "text/plain": [
       "<Figure size 432x432 with 4 Axes>"
      ]
     },
     "metadata": {
      "needs_background": "light"
     },
     "output_type": "display_data"
    }
   ],
   "source": [
    "sns.FacetGrid(data=titanic_set, col=\"Sex\",row=\"IsAlone\", hue=\"Survived\").map(sns.countplot, \"Age\", alpha=0.5)\n",
    "plt.legend()\n",
    "plt.show()"
   ]
  },
  {
   "cell_type": "code",
   "execution_count": 48,
   "metadata": {},
   "outputs": [],
   "source": [
    "# A function for binning the fare based on the distribution plot into different groups\n",
    "def fare_bins(fare):\n",
    "        if fare<0:\n",
    "            return 0\n",
    "        elif fare in range(0,21):\n",
    "            return 1\n",
    "        elif fare in range(21, 201):\n",
    "            return 2\n",
    "        else:\n",
    "            return 3"
   ]
  },
  {
   "cell_type": "code",
   "execution_count": 49,
   "metadata": {},
   "outputs": [],
   "source": [
    "titanic_set['Fare'] = titanic_set['Fare'].apply(fare_bins)"
   ]
  },
  {
   "cell_type": "code",
   "execution_count": 50,
   "metadata": {},
   "outputs": [
    {
     "name": "stdout",
     "output_type": "stream",
     "text": [
      "<class 'pandas.core.frame.DataFrame'>\n",
      "Int64Index: 891 entries, 1 to 891\n",
      "Data columns (total 13 columns):\n",
      "Survived    891 non-null int64\n",
      "Pclass      891 non-null int64\n",
      "Name        891 non-null object\n",
      "Sex         891 non-null object\n",
      "Age         891 non-null int64\n",
      "SibSp       891 non-null int64\n",
      "Parch       891 non-null int64\n",
      "Ticket      891 non-null object\n",
      "Fare        891 non-null int64\n",
      "Cabin       891 non-null object\n",
      "Embarked    891 non-null object\n",
      "IsAlone     891 non-null int64\n",
      "Title       891 non-null object\n",
      "dtypes: int64(7), object(6)\n",
      "memory usage: 137.5+ KB\n"
     ]
    }
   ],
   "source": [
    "titanic_set.info()"
   ]
  },
  {
   "cell_type": "code",
   "execution_count": 53,
   "metadata": {},
   "outputs": [],
   "source": [
    "# A function to encode sex feature\n",
    "def encode_sex(sex):\n",
    "    return int(sex==\"male\")"
   ]
  },
  {
   "cell_type": "code",
   "execution_count": 54,
   "metadata": {},
   "outputs": [],
   "source": [
    "titanic_set['Sex'] = titanic_set['Sex'].apply(encode_sex)"
   ]
  },
  {
   "cell_type": "code",
   "execution_count": 55,
   "metadata": {},
   "outputs": [],
   "source": [
    "titanic_set.drop(['Name', 'Ticket', 'SibSp', 'Parch'], axis=1, inplace=True)"
   ]
  },
  {
   "cell_type": "code",
   "execution_count": 56,
   "metadata": {},
   "outputs": [],
   "source": [
    "titanic_set=pd.concat([titanic_set, pd.get_dummies(titanic_set['Title'], prefix='Title', drop_first=True)], axis=1)\n",
    "titanic_set=pd.concat([titanic_set, pd.get_dummies(titanic_set['Cabin'], prefix=\"Cabin\", drop_first=True)], axis=1)\n",
    "titanic_set=pd.concat([titanic_set, pd.get_dummies(titanic_set['Embarked'], prefix=\"EmbarkedAt\", drop_first=True)], axis=1)"
   ]
  },
  {
   "cell_type": "code",
   "execution_count": 57,
   "metadata": {},
   "outputs": [],
   "source": [
    "titanic_set.drop(['Title', 'Cabin', 'Embarked'], axis=1, inplace=True)"
   ]
  },
  {
   "cell_type": "code",
   "execution_count": 58,
   "metadata": {},
   "outputs": [
    {
     "name": "stdout",
     "output_type": "stream",
     "text": [
      "<class 'pandas.core.frame.DataFrame'>\n",
      "Int64Index: 891 entries, 1 to 891\n",
      "Data columns (total 19 columns):\n",
      "Survived        891 non-null int64\n",
      "Pclass          891 non-null int64\n",
      "Sex             891 non-null int64\n",
      "Age             891 non-null int64\n",
      "Fare            891 non-null int64\n",
      "IsAlone         891 non-null int64\n",
      "Title_Misc      891 non-null uint8\n",
      "Title_Miss      891 non-null uint8\n",
      "Title_Mr        891 non-null uint8\n",
      "Title_Mrs       891 non-null uint8\n",
      "Cabin_B         891 non-null uint8\n",
      "Cabin_C         891 non-null uint8\n",
      "Cabin_D         891 non-null uint8\n",
      "Cabin_E         891 non-null uint8\n",
      "Cabin_F         891 non-null uint8\n",
      "Cabin_G         891 non-null uint8\n",
      "Cabin_U         891 non-null uint8\n",
      "EmbarkedAt_Q    891 non-null uint8\n",
      "EmbarkedAt_S    891 non-null uint8\n",
      "dtypes: int64(6), uint8(13)\n",
      "memory usage: 100.0 KB\n"
     ]
    }
   ],
   "source": [
    "titanic_set.info()"
   ]
  },
  {
   "cell_type": "code",
   "execution_count": 59,
   "metadata": {},
   "outputs": [
    {
     "data": {
      "text/html": [
       "<div>\n",
       "<style scoped>\n",
       "    .dataframe tbody tr th:only-of-type {\n",
       "        vertical-align: middle;\n",
       "    }\n",
       "\n",
       "    .dataframe tbody tr th {\n",
       "        vertical-align: top;\n",
       "    }\n",
       "\n",
       "    .dataframe thead th {\n",
       "        text-align: right;\n",
       "    }\n",
       "</style>\n",
       "<table border=\"1\" class=\"dataframe\">\n",
       "  <thead>\n",
       "    <tr style=\"text-align: right;\">\n",
       "      <th></th>\n",
       "      <th>Survived</th>\n",
       "      <th>Pclass</th>\n",
       "      <th>Sex</th>\n",
       "      <th>Age</th>\n",
       "      <th>Fare</th>\n",
       "      <th>IsAlone</th>\n",
       "      <th>Title_Misc</th>\n",
       "      <th>Title_Miss</th>\n",
       "      <th>Title_Mr</th>\n",
       "      <th>Title_Mrs</th>\n",
       "      <th>Cabin_B</th>\n",
       "      <th>Cabin_C</th>\n",
       "      <th>Cabin_D</th>\n",
       "      <th>Cabin_E</th>\n",
       "      <th>Cabin_F</th>\n",
       "      <th>Cabin_G</th>\n",
       "      <th>Cabin_U</th>\n",
       "      <th>EmbarkedAt_Q</th>\n",
       "      <th>EmbarkedAt_S</th>\n",
       "    </tr>\n",
       "    <tr>\n",
       "      <th>PassengerId</th>\n",
       "      <th></th>\n",
       "      <th></th>\n",
       "      <th></th>\n",
       "      <th></th>\n",
       "      <th></th>\n",
       "      <th></th>\n",
       "      <th></th>\n",
       "      <th></th>\n",
       "      <th></th>\n",
       "      <th></th>\n",
       "      <th></th>\n",
       "      <th></th>\n",
       "      <th></th>\n",
       "      <th></th>\n",
       "      <th></th>\n",
       "      <th></th>\n",
       "      <th></th>\n",
       "      <th></th>\n",
       "      <th></th>\n",
       "    </tr>\n",
       "  </thead>\n",
       "  <tbody>\n",
       "    <tr>\n",
       "      <td>1</td>\n",
       "      <td>0</td>\n",
       "      <td>3</td>\n",
       "      <td>1</td>\n",
       "      <td>2</td>\n",
       "      <td>3</td>\n",
       "      <td>0</td>\n",
       "      <td>0</td>\n",
       "      <td>0</td>\n",
       "      <td>1</td>\n",
       "      <td>0</td>\n",
       "      <td>0</td>\n",
       "      <td>0</td>\n",
       "      <td>0</td>\n",
       "      <td>0</td>\n",
       "      <td>0</td>\n",
       "      <td>0</td>\n",
       "      <td>1</td>\n",
       "      <td>0</td>\n",
       "      <td>1</td>\n",
       "    </tr>\n",
       "    <tr>\n",
       "      <td>2</td>\n",
       "      <td>1</td>\n",
       "      <td>1</td>\n",
       "      <td>0</td>\n",
       "      <td>3</td>\n",
       "      <td>3</td>\n",
       "      <td>0</td>\n",
       "      <td>0</td>\n",
       "      <td>0</td>\n",
       "      <td>0</td>\n",
       "      <td>1</td>\n",
       "      <td>0</td>\n",
       "      <td>1</td>\n",
       "      <td>0</td>\n",
       "      <td>0</td>\n",
       "      <td>0</td>\n",
       "      <td>0</td>\n",
       "      <td>0</td>\n",
       "      <td>0</td>\n",
       "      <td>0</td>\n",
       "    </tr>\n",
       "    <tr>\n",
       "      <td>3</td>\n",
       "      <td>1</td>\n",
       "      <td>3</td>\n",
       "      <td>0</td>\n",
       "      <td>2</td>\n",
       "      <td>3</td>\n",
       "      <td>1</td>\n",
       "      <td>0</td>\n",
       "      <td>1</td>\n",
       "      <td>0</td>\n",
       "      <td>0</td>\n",
       "      <td>0</td>\n",
       "      <td>0</td>\n",
       "      <td>0</td>\n",
       "      <td>0</td>\n",
       "      <td>0</td>\n",
       "      <td>0</td>\n",
       "      <td>1</td>\n",
       "      <td>0</td>\n",
       "      <td>1</td>\n",
       "    </tr>\n",
       "    <tr>\n",
       "      <td>4</td>\n",
       "      <td>1</td>\n",
       "      <td>1</td>\n",
       "      <td>0</td>\n",
       "      <td>2</td>\n",
       "      <td>3</td>\n",
       "      <td>0</td>\n",
       "      <td>0</td>\n",
       "      <td>0</td>\n",
       "      <td>0</td>\n",
       "      <td>1</td>\n",
       "      <td>0</td>\n",
       "      <td>1</td>\n",
       "      <td>0</td>\n",
       "      <td>0</td>\n",
       "      <td>0</td>\n",
       "      <td>0</td>\n",
       "      <td>0</td>\n",
       "      <td>0</td>\n",
       "      <td>1</td>\n",
       "    </tr>\n",
       "    <tr>\n",
       "      <td>5</td>\n",
       "      <td>0</td>\n",
       "      <td>3</td>\n",
       "      <td>1</td>\n",
       "      <td>2</td>\n",
       "      <td>3</td>\n",
       "      <td>1</td>\n",
       "      <td>0</td>\n",
       "      <td>0</td>\n",
       "      <td>1</td>\n",
       "      <td>0</td>\n",
       "      <td>0</td>\n",
       "      <td>0</td>\n",
       "      <td>0</td>\n",
       "      <td>0</td>\n",
       "      <td>0</td>\n",
       "      <td>0</td>\n",
       "      <td>1</td>\n",
       "      <td>0</td>\n",
       "      <td>1</td>\n",
       "    </tr>\n",
       "    <tr>\n",
       "      <td>6</td>\n",
       "      <td>0</td>\n",
       "      <td>3</td>\n",
       "      <td>1</td>\n",
       "      <td>2</td>\n",
       "      <td>3</td>\n",
       "      <td>1</td>\n",
       "      <td>0</td>\n",
       "      <td>0</td>\n",
       "      <td>1</td>\n",
       "      <td>0</td>\n",
       "      <td>0</td>\n",
       "      <td>0</td>\n",
       "      <td>0</td>\n",
       "      <td>0</td>\n",
       "      <td>0</td>\n",
       "      <td>0</td>\n",
       "      <td>1</td>\n",
       "      <td>1</td>\n",
       "      <td>0</td>\n",
       "    </tr>\n",
       "    <tr>\n",
       "      <td>7</td>\n",
       "      <td>0</td>\n",
       "      <td>1</td>\n",
       "      <td>1</td>\n",
       "      <td>3</td>\n",
       "      <td>3</td>\n",
       "      <td>1</td>\n",
       "      <td>0</td>\n",
       "      <td>0</td>\n",
       "      <td>1</td>\n",
       "      <td>0</td>\n",
       "      <td>0</td>\n",
       "      <td>0</td>\n",
       "      <td>0</td>\n",
       "      <td>1</td>\n",
       "      <td>0</td>\n",
       "      <td>0</td>\n",
       "      <td>0</td>\n",
       "      <td>0</td>\n",
       "      <td>1</td>\n",
       "    </tr>\n",
       "    <tr>\n",
       "      <td>8</td>\n",
       "      <td>0</td>\n",
       "      <td>3</td>\n",
       "      <td>1</td>\n",
       "      <td>1</td>\n",
       "      <td>3</td>\n",
       "      <td>0</td>\n",
       "      <td>0</td>\n",
       "      <td>0</td>\n",
       "      <td>0</td>\n",
       "      <td>0</td>\n",
       "      <td>0</td>\n",
       "      <td>0</td>\n",
       "      <td>0</td>\n",
       "      <td>0</td>\n",
       "      <td>0</td>\n",
       "      <td>0</td>\n",
       "      <td>1</td>\n",
       "      <td>0</td>\n",
       "      <td>1</td>\n",
       "    </tr>\n",
       "    <tr>\n",
       "      <td>9</td>\n",
       "      <td>1</td>\n",
       "      <td>3</td>\n",
       "      <td>0</td>\n",
       "      <td>2</td>\n",
       "      <td>3</td>\n",
       "      <td>0</td>\n",
       "      <td>0</td>\n",
       "      <td>0</td>\n",
       "      <td>0</td>\n",
       "      <td>1</td>\n",
       "      <td>0</td>\n",
       "      <td>0</td>\n",
       "      <td>0</td>\n",
       "      <td>0</td>\n",
       "      <td>0</td>\n",
       "      <td>0</td>\n",
       "      <td>1</td>\n",
       "      <td>0</td>\n",
       "      <td>1</td>\n",
       "    </tr>\n",
       "    <tr>\n",
       "      <td>10</td>\n",
       "      <td>1</td>\n",
       "      <td>2</td>\n",
       "      <td>0</td>\n",
       "      <td>1</td>\n",
       "      <td>3</td>\n",
       "      <td>0</td>\n",
       "      <td>0</td>\n",
       "      <td>0</td>\n",
       "      <td>0</td>\n",
       "      <td>1</td>\n",
       "      <td>0</td>\n",
       "      <td>0</td>\n",
       "      <td>0</td>\n",
       "      <td>0</td>\n",
       "      <td>0</td>\n",
       "      <td>0</td>\n",
       "      <td>1</td>\n",
       "      <td>0</td>\n",
       "      <td>0</td>\n",
       "    </tr>\n",
       "    <tr>\n",
       "      <td>11</td>\n",
       "      <td>1</td>\n",
       "      <td>3</td>\n",
       "      <td>0</td>\n",
       "      <td>1</td>\n",
       "      <td>3</td>\n",
       "      <td>0</td>\n",
       "      <td>0</td>\n",
       "      <td>1</td>\n",
       "      <td>0</td>\n",
       "      <td>0</td>\n",
       "      <td>0</td>\n",
       "      <td>0</td>\n",
       "      <td>0</td>\n",
       "      <td>0</td>\n",
       "      <td>0</td>\n",
       "      <td>1</td>\n",
       "      <td>0</td>\n",
       "      <td>0</td>\n",
       "      <td>1</td>\n",
       "    </tr>\n",
       "    <tr>\n",
       "      <td>12</td>\n",
       "      <td>1</td>\n",
       "      <td>1</td>\n",
       "      <td>0</td>\n",
       "      <td>3</td>\n",
       "      <td>3</td>\n",
       "      <td>1</td>\n",
       "      <td>0</td>\n",
       "      <td>1</td>\n",
       "      <td>0</td>\n",
       "      <td>0</td>\n",
       "      <td>0</td>\n",
       "      <td>1</td>\n",
       "      <td>0</td>\n",
       "      <td>0</td>\n",
       "      <td>0</td>\n",
       "      <td>0</td>\n",
       "      <td>0</td>\n",
       "      <td>0</td>\n",
       "      <td>1</td>\n",
       "    </tr>\n",
       "    <tr>\n",
       "      <td>13</td>\n",
       "      <td>0</td>\n",
       "      <td>3</td>\n",
       "      <td>1</td>\n",
       "      <td>2</td>\n",
       "      <td>3</td>\n",
       "      <td>1</td>\n",
       "      <td>0</td>\n",
       "      <td>0</td>\n",
       "      <td>1</td>\n",
       "      <td>0</td>\n",
       "      <td>0</td>\n",
       "      <td>0</td>\n",
       "      <td>0</td>\n",
       "      <td>0</td>\n",
       "      <td>0</td>\n",
       "      <td>0</td>\n",
       "      <td>1</td>\n",
       "      <td>0</td>\n",
       "      <td>1</td>\n",
       "    </tr>\n",
       "    <tr>\n",
       "      <td>14</td>\n",
       "      <td>0</td>\n",
       "      <td>3</td>\n",
       "      <td>1</td>\n",
       "      <td>3</td>\n",
       "      <td>3</td>\n",
       "      <td>0</td>\n",
       "      <td>0</td>\n",
       "      <td>0</td>\n",
       "      <td>1</td>\n",
       "      <td>0</td>\n",
       "      <td>0</td>\n",
       "      <td>0</td>\n",
       "      <td>0</td>\n",
       "      <td>0</td>\n",
       "      <td>0</td>\n",
       "      <td>0</td>\n",
       "      <td>1</td>\n",
       "      <td>0</td>\n",
       "      <td>1</td>\n",
       "    </tr>\n",
       "    <tr>\n",
       "      <td>15</td>\n",
       "      <td>0</td>\n",
       "      <td>3</td>\n",
       "      <td>0</td>\n",
       "      <td>1</td>\n",
       "      <td>3</td>\n",
       "      <td>1</td>\n",
       "      <td>0</td>\n",
       "      <td>1</td>\n",
       "      <td>0</td>\n",
       "      <td>0</td>\n",
       "      <td>0</td>\n",
       "      <td>0</td>\n",
       "      <td>0</td>\n",
       "      <td>0</td>\n",
       "      <td>0</td>\n",
       "      <td>0</td>\n",
       "      <td>1</td>\n",
       "      <td>0</td>\n",
       "      <td>1</td>\n",
       "    </tr>\n",
       "  </tbody>\n",
       "</table>\n",
       "</div>"
      ],
      "text/plain": [
       "             Survived  Pclass  Sex  Age  Fare  IsAlone  Title_Misc  \\\n",
       "PassengerId                                                          \n",
       "1                   0       3    1    2     3        0           0   \n",
       "2                   1       1    0    3     3        0           0   \n",
       "3                   1       3    0    2     3        1           0   \n",
       "4                   1       1    0    2     3        0           0   \n",
       "5                   0       3    1    2     3        1           0   \n",
       "6                   0       3    1    2     3        1           0   \n",
       "7                   0       1    1    3     3        1           0   \n",
       "8                   0       3    1    1     3        0           0   \n",
       "9                   1       3    0    2     3        0           0   \n",
       "10                  1       2    0    1     3        0           0   \n",
       "11                  1       3    0    1     3        0           0   \n",
       "12                  1       1    0    3     3        1           0   \n",
       "13                  0       3    1    2     3        1           0   \n",
       "14                  0       3    1    3     3        0           0   \n",
       "15                  0       3    0    1     3        1           0   \n",
       "\n",
       "             Title_Miss  Title_Mr  Title_Mrs  Cabin_B  Cabin_C  Cabin_D  \\\n",
       "PassengerId                                                               \n",
       "1                     0         1          0        0        0        0   \n",
       "2                     0         0          1        0        1        0   \n",
       "3                     1         0          0        0        0        0   \n",
       "4                     0         0          1        0        1        0   \n",
       "5                     0         1          0        0        0        0   \n",
       "6                     0         1          0        0        0        0   \n",
       "7                     0         1          0        0        0        0   \n",
       "8                     0         0          0        0        0        0   \n",
       "9                     0         0          1        0        0        0   \n",
       "10                    0         0          1        0        0        0   \n",
       "11                    1         0          0        0        0        0   \n",
       "12                    1         0          0        0        1        0   \n",
       "13                    0         1          0        0        0        0   \n",
       "14                    0         1          0        0        0        0   \n",
       "15                    1         0          0        0        0        0   \n",
       "\n",
       "             Cabin_E  Cabin_F  Cabin_G  Cabin_U  EmbarkedAt_Q  EmbarkedAt_S  \n",
       "PassengerId                                                                  \n",
       "1                  0        0        0        1             0             1  \n",
       "2                  0        0        0        0             0             0  \n",
       "3                  0        0        0        1             0             1  \n",
       "4                  0        0        0        0             0             1  \n",
       "5                  0        0        0        1             0             1  \n",
       "6                  0        0        0        1             1             0  \n",
       "7                  1        0        0        0             0             1  \n",
       "8                  0        0        0        1             0             1  \n",
       "9                  0        0        0        1             0             1  \n",
       "10                 0        0        0        1             0             0  \n",
       "11                 0        0        1        0             0             1  \n",
       "12                 0        0        0        0             0             1  \n",
       "13                 0        0        0        1             0             1  \n",
       "14                 0        0        0        1             0             1  \n",
       "15                 0        0        0        1             0             1  "
      ]
     },
     "execution_count": 59,
     "metadata": {},
     "output_type": "execute_result"
    }
   ],
   "source": [
    "titanic_set.head(15)"
   ]
  },
  {
   "cell_type": "code",
   "execution_count": 60,
   "metadata": {},
   "outputs": [],
   "source": [
    "# Building a custom processor to take care of all the above data preprocessing steps to any new incoming sample\n",
    "class CustomProcesser(BaseEstimator, TransformerMixin):\n",
    "    def __init__(self, pseudo=None):\n",
    "        self.pseudo = pseudo\n",
    "    def fit(self, X, y=None):\n",
    "        return self\n",
    "    def IsAlone(self, cols):\n",
    "        sibsp=cols[0]\n",
    "        parch=cols[1]\n",
    "        return int(sibsp+parch == 0)\n",
    "    def ExtractTitle(self, Name):\n",
    "        title = Name.split(', ')[1].split('.')[0]\n",
    "        if title in [\"Miss\", \"Ms\", \"Mme\", \"Mlle\"]:\n",
    "            return \"Miss\"\n",
    "        elif title in [\"Mr\", \"Mrs\", \"Master\"]:\n",
    "            return title\n",
    "        else:\n",
    "            return \"Misc\"\n",
    "    def cabin(self, cabin):\n",
    "        if pd.isnull(cabin) or cabin[0]==\"T\":\n",
    "            return \"U\"\n",
    "        else:\n",
    "            return cabin[0]\n",
    "    def fill_embark(self, embarked):\n",
    "        if embarked == \"S\" or pd.isnull(embarked):\n",
    "            return \"S\"\n",
    "        else:\n",
    "            return embarked\n",
    "    def age_bins(self, age):\n",
    "        if age in range(0,19):\n",
    "            return 1\n",
    "        elif age in range(19,36):\n",
    "            return 2\n",
    "        elif age in range(36, 81):\n",
    "            return 3\n",
    "        elif age>=81:\n",
    "            return 4\n",
    "        else:\n",
    "            return 0\n",
    "    def encode_sex(self, sex):\n",
    "        return int(sex==\"male\")\n",
    "    def fare_bins(self, fare):\n",
    "        if fare<0:\n",
    "            return 0\n",
    "        elif fare in range(0,21):\n",
    "            return 1\n",
    "        elif fare in range(21, 201):\n",
    "            return 2\n",
    "        else:\n",
    "            return 3\n",
    "    def transform(self, X, y=None):\n",
    "        X['IsAlone'] = X[['SibSp', 'Parch']].apply(self.IsAlone, axis=1)\n",
    "        X['Title'] = X['Name'].apply(self.ExtractTitle)\n",
    "        X['Cabin'] = X['Cabin'].apply(self.cabin)\n",
    "        X['Embarked'] = X['Embarked'].apply(self.fill_embark)\n",
    "        X['Age'] = X.groupby(['Sex', 'Pclass', 'Title']).Age.apply(lambda x:x.fillna(x.median()))\n",
    "        X['Age'] = X['Age'].apply(self.age_bins)\n",
    "        X['Sex'] = X['Sex'].apply(self.encode_sex)\n",
    "        X['Fare'] = X['Fare'].fillna(method='ffill')\n",
    "        X['Fare'] = X['Fare'].apply(self.fare_bins)\n",
    "        X.drop(['Name', 'Ticket', 'SibSp', 'Parch'], axis=1, inplace=True)\n",
    "        X=pd.concat([X, pd.get_dummies(X['Title'], prefix='Title', drop_first=True)], axis=1)\n",
    "        X=pd.concat([X, pd.get_dummies(X['Cabin'], prefix=\"Cabin\", drop_first=True)], axis=1)\n",
    "        X=pd.concat([X, pd.get_dummies(X['Embarked'], prefix=\"EmbarkedAt\", drop_first=True)], axis=1)\n",
    "        X.drop(['Title', 'Cabin', 'Embarked'], axis=1, inplace=True)\n",
    "        return X"
   ]
  },
  {
   "cell_type": "code",
   "execution_count": 65,
   "metadata": {},
   "outputs": [],
   "source": [
    "# building a column transformer pipeline\n",
    "Features = list(titanic_train.drop('Survived', axis=1).columns)\n",
    "pipeline = ColumnTransformer([\n",
    "    (\"transformer\", CustomProcesser(), Features)\n",
    "])"
   ]
  },
  {
   "cell_type": "code",
   "execution_count": 66,
   "metadata": {},
   "outputs": [],
   "source": [
    "titanic_features, titanic_target = pipeline.fit_transform(titanic_train[Features]), titanic_train['Survived']"
   ]
  },
  {
   "cell_type": "code",
   "execution_count": 67,
   "metadata": {},
   "outputs": [
    {
     "data": {
      "text/plain": [
       "array([[3, 1, 2, ..., 1, 0, 1],\n",
       "       [1, 0, 3, ..., 0, 0, 0],\n",
       "       [3, 0, 2, ..., 1, 0, 1],\n",
       "       ...,\n",
       "       [3, 0, 1, ..., 1, 0, 1],\n",
       "       [1, 1, 2, ..., 0, 0, 0],\n",
       "       [3, 1, 2, ..., 1, 1, 0]], dtype=int64)"
      ]
     },
     "execution_count": 67,
     "metadata": {},
     "output_type": "execute_result"
    }
   ],
   "source": [
    "titanic_features"
   ]
  },
  {
   "cell_type": "code",
   "execution_count": 68,
   "metadata": {},
   "outputs": [
    {
     "data": {
      "text/plain": [
       "(891, 18)"
      ]
     },
     "execution_count": 68,
     "metadata": {},
     "output_type": "execute_result"
    }
   ],
   "source": [
    "titanic_features.shape"
   ]
  },
  {
   "cell_type": "code",
   "execution_count": 69,
   "metadata": {},
   "outputs": [],
   "source": [
    "titanic_features_test = pipeline.fit_transform(titanic_test)"
   ]
  },
  {
   "cell_type": "code",
   "execution_count": 70,
   "metadata": {},
   "outputs": [
    {
     "data": {
      "text/plain": [
       "(418, 18)"
      ]
     },
     "execution_count": 70,
     "metadata": {},
     "output_type": "execute_result"
    }
   ],
   "source": [
    "titanic_features_test.shape"
   ]
  },
  {
   "cell_type": "code",
   "execution_count": 71,
   "metadata": {},
   "outputs": [],
   "source": [
    "#Defining the stack of models to be trained and evaluated upon\n",
    "stack_clf2=StackModelClassifier([\n",
    "    (\"logistic_regression\", LogisticRegression(), None),\n",
    "    (\"svm\", SVC(), None), \n",
    "    (\"svm_tuned\", SVC(), dict(param_grid={'kernel': ['linear', 'rbf']}, \n",
    "                             cv=5,\n",
    "                             scoring='f1_macro')), \n",
    "    ('knn', KNeighborsClassifier(5), None), \n",
    "    ('forest_tuned', RandomForestClassifier(), dict(param_grid=dict(     \n",
    "                                max_depth = [n for n in range(9, 14)],     \n",
    "                                min_samples_split = [n for n in range(4, 11)], \n",
    "                                min_samples_leaf = [n for n in range(2, 5)],     \n",
    "                                n_estimators = [n for n in range(10, 60, 10)],\n",
    "                            ), \n",
    "                                                   cv=5, \n",
    "                                                   scoring=None))\n",
    "])"
   ]
  },
  {
   "cell_type": "code",
   "execution_count": 72,
   "metadata": {},
   "outputs": [
    {
     "name": "stderr",
     "output_type": "stream",
     "text": [
      "C:\\Users\\SAKETH\\Anaconda3\\lib\\site-packages\\sklearn\\linear_model\\logistic.py:432: FutureWarning: Default solver will be changed to 'lbfgs' in 0.22. Specify a solver to silence this warning.\n",
      "  FutureWarning)\n"
     ]
    },
    {
     "name": "stdout",
     "output_type": "stream",
     "text": [
      "logistic_regression is trained successfully\n",
      "svm is trained successfully\n"
     ]
    },
    {
     "name": "stderr",
     "output_type": "stream",
     "text": [
      "C:\\Users\\SAKETH\\Anaconda3\\lib\\site-packages\\sklearn\\svm\\base.py:193: FutureWarning: The default value of gamma will change from 'auto' to 'scale' in version 0.22 to account better for unscaled features. Set gamma explicitly to 'auto' or 'scale' to avoid this warning.\n",
      "  \"avoid this warning.\", FutureWarning)\n",
      "C:\\Users\\SAKETH\\Anaconda3\\lib\\site-packages\\sklearn\\svm\\base.py:193: FutureWarning: The default value of gamma will change from 'auto' to 'scale' in version 0.22 to account better for unscaled features. Set gamma explicitly to 'auto' or 'scale' to avoid this warning.\n",
      "  \"avoid this warning.\", FutureWarning)\n",
      "C:\\Users\\SAKETH\\Anaconda3\\lib\\site-packages\\sklearn\\svm\\base.py:193: FutureWarning: The default value of gamma will change from 'auto' to 'scale' in version 0.22 to account better for unscaled features. Set gamma explicitly to 'auto' or 'scale' to avoid this warning.\n",
      "  \"avoid this warning.\", FutureWarning)\n",
      "C:\\Users\\SAKETH\\Anaconda3\\lib\\site-packages\\sklearn\\svm\\base.py:193: FutureWarning: The default value of gamma will change from 'auto' to 'scale' in version 0.22 to account better for unscaled features. Set gamma explicitly to 'auto' or 'scale' to avoid this warning.\n",
      "  \"avoid this warning.\", FutureWarning)\n",
      "C:\\Users\\SAKETH\\Anaconda3\\lib\\site-packages\\sklearn\\svm\\base.py:193: FutureWarning: The default value of gamma will change from 'auto' to 'scale' in version 0.22 to account better for unscaled features. Set gamma explicitly to 'auto' or 'scale' to avoid this warning.\n",
      "  \"avoid this warning.\", FutureWarning)\n",
      "C:\\Users\\SAKETH\\Anaconda3\\lib\\site-packages\\sklearn\\svm\\base.py:193: FutureWarning: The default value of gamma will change from 'auto' to 'scale' in version 0.22 to account better for unscaled features. Set gamma explicitly to 'auto' or 'scale' to avoid this warning.\n",
      "  \"avoid this warning.\", FutureWarning)\n",
      "C:\\Users\\SAKETH\\Anaconda3\\lib\\site-packages\\sklearn\\svm\\base.py:193: FutureWarning: The default value of gamma will change from 'auto' to 'scale' in version 0.22 to account better for unscaled features. Set gamma explicitly to 'auto' or 'scale' to avoid this warning.\n",
      "  \"avoid this warning.\", FutureWarning)\n"
     ]
    },
    {
     "name": "stdout",
     "output_type": "stream",
     "text": [
      "svm_tuned is trained successfully\n",
      "knn is trained successfully\n",
      "forest_tuned is trained successfully\n",
      "Trained 5 models in this iteration of training\n"
     ]
    }
   ],
   "source": [
    "stack_clf2.train(titanic_features, titanic_target)"
   ]
  },
  {
   "cell_type": "code",
   "execution_count": 73,
   "metadata": {},
   "outputs": [
    {
     "data": {
      "image/png": "[encoded data removed]",
      "text/plain": [
       "<Figure size 720x576 with 1 Axes>"
      ]
     },
     "metadata": {
      "needs_background": "light"
     },
     "output_type": "display_data"
    }
   ],
   "source": [
    "stack_clf2.evaluate(titanic_features, titanic_target)"
   ]
  },
  {
   "cell_type": "code",
   "execution_count": 74,
   "metadata": {},
   "outputs": [
    {
     "name": "stdout",
     "output_type": "stream",
     "text": [
      "[('logistic_regression', LogisticRegression(C=1.0, class_weight=None, dual=False, fit_intercept=True,\n",
      "                   intercept_scaling=1, l1_ratio=None, max_iter=100,\n",
      "                   multi_class='warn', n_jobs=None, penalty='l2',\n",
      "                   random_state=None, solver='warn', tol=0.0001, verbose=0,\n",
      "                   warm_start=False)), ('svm', SVC(C=1.0, cache_size=200, class_weight=None, coef0=0.0,\n",
      "    decision_function_shape='ovr', degree=3, gamma='auto_deprecated',\n",
      "    kernel='rbf', max_iter=-1, probability=False, random_state=None,\n",
      "    shrinking=True, tol=0.001, verbose=False)), ('svm_tuned', GridSearchCV(cv=5, error_score='raise-deprecating',\n",
      "             estimator=SVC(C=1.0, cache_size=200, class_weight=None, coef0=0.0,\n",
      "                           decision_function_shape='ovr', degree=3,\n",
      "                           gamma='auto_deprecated', kernel='rbf', max_iter=-1,\n",
      "                           probability=False, random_state=None, shrinking=True,\n",
      "                           tol=0.001, verbose=False),\n",
      "             iid='warn', n_jobs=None, param_grid={'kernel': ['linear', 'rbf']},\n",
      "             pre_dispatch='2*n_jobs', refit=True, return_train_score=False,\n",
      "             scoring='f1_macro', verbose=0)), ('knn', KNeighborsClassifier(algorithm='auto', leaf_size=30, metric='minkowski',\n",
      "                     metric_params=None, n_jobs=None, n_neighbors=5, p=2,\n",
      "                     weights='uniform')), ('forest_tuned', GridSearchCV(cv=5, error_score='raise-deprecating',\n",
      "             estimator=RandomForestClassifier(bootstrap=True, class_weight=None,\n",
      "                                              criterion='gini', max_depth=None,\n",
      "                                              max_features='auto',\n",
      "                                              max_leaf_nodes=None,\n",
      "                                              min_impurity_decrease=0.0,\n",
      "                                              min_impurity_split=None,\n",
      "                                              min_samples_leaf=1,\n",
      "                                              min_samples_split=2,\n",
      "                                              min_weight_fraction_leaf=0.0,\n",
      "                                              n_estimators='warn', n_jobs=None,\n",
      "                                              oob_score=False,\n",
      "                                              random_state=None, verbose=0,\n",
      "                                              warm_start=False),\n",
      "             iid='warn', n_jobs=None,\n",
      "             param_grid={'max_depth': [9, 10, 11, 12, 13],\n",
      "                         'min_samples_leaf': [2, 3, 4],\n",
      "                         'min_samples_split': [4, 5, 6, 7, 8, 9, 10],\n",
      "                         'n_estimators': [10, 20, 30, 40, 50]},\n",
      "             pre_dispatch='2*n_jobs', refit=True, return_train_score=False,\n",
      "             scoring=None, verbose=0))]\n"
     ]
    }
   ],
   "source": [
    "#Adding a hard voter on top of the above trained models\n",
    "stack_clf2.ensemble_models(['logistic_regression', 'svm', 'svm_tuned', 'knn', 'forest_tuned'], \n",
    "                         VotingClassifier, voting='hard')"
   ]
  },
  {
   "cell_type": "code",
   "execution_count": 75,
   "metadata": {},
   "outputs": [
    {
     "name": "stdout",
     "output_type": "stream",
     "text": [
      "logistic_regression is already in the trained models list. So ignoring this model in this iteration of training\n",
      "svm is already in the trained models list. So ignoring this model in this iteration of training\n",
      "svm_tuned is already in the trained models list. So ignoring this model in this iteration of training\n",
      "knn is already in the trained models list. So ignoring this model in this iteration of training\n",
      "forest_tuned is already in the trained models list. So ignoring this model in this iteration of training\n"
     ]
    },
    {
     "name": "stderr",
     "output_type": "stream",
     "text": [
      "C:\\Users\\SAKETH\\Anaconda3\\lib\\site-packages\\sklearn\\linear_model\\logistic.py:432: FutureWarning: Default solver will be changed to 'lbfgs' in 0.22. Specify a solver to silence this warning.\n",
      "  FutureWarning)\n",
      "C:\\Users\\SAKETH\\Anaconda3\\lib\\site-packages\\sklearn\\svm\\base.py:193: FutureWarning: The default value of gamma will change from 'auto' to 'scale' in version 0.22 to account better for unscaled features. Set gamma explicitly to 'auto' or 'scale' to avoid this warning.\n",
      "  \"avoid this warning.\", FutureWarning)\n",
      "C:\\Users\\SAKETH\\Anaconda3\\lib\\site-packages\\sklearn\\svm\\base.py:193: FutureWarning: The default value of gamma will change from 'auto' to 'scale' in version 0.22 to account better for unscaled features. Set gamma explicitly to 'auto' or 'scale' to avoid this warning.\n",
      "  \"avoid this warning.\", FutureWarning)\n",
      "C:\\Users\\SAKETH\\Anaconda3\\lib\\site-packages\\sklearn\\svm\\base.py:193: FutureWarning: The default value of gamma will change from 'auto' to 'scale' in version 0.22 to account better for unscaled features. Set gamma explicitly to 'auto' or 'scale' to avoid this warning.\n",
      "  \"avoid this warning.\", FutureWarning)\n",
      "C:\\Users\\SAKETH\\Anaconda3\\lib\\site-packages\\sklearn\\svm\\base.py:193: FutureWarning: The default value of gamma will change from 'auto' to 'scale' in version 0.22 to account better for unscaled features. Set gamma explicitly to 'auto' or 'scale' to avoid this warning.\n",
      "  \"avoid this warning.\", FutureWarning)\n",
      "C:\\Users\\SAKETH\\Anaconda3\\lib\\site-packages\\sklearn\\svm\\base.py:193: FutureWarning: The default value of gamma will change from 'auto' to 'scale' in version 0.22 to account better for unscaled features. Set gamma explicitly to 'auto' or 'scale' to avoid this warning.\n",
      "  \"avoid this warning.\", FutureWarning)\n",
      "C:\\Users\\SAKETH\\Anaconda3\\lib\\site-packages\\sklearn\\svm\\base.py:193: FutureWarning: The default value of gamma will change from 'auto' to 'scale' in version 0.22 to account better for unscaled features. Set gamma explicitly to 'auto' or 'scale' to avoid this warning.\n",
      "  \"avoid this warning.\", FutureWarning)\n",
      "C:\\Users\\SAKETH\\Anaconda3\\lib\\site-packages\\sklearn\\svm\\base.py:193: FutureWarning: The default value of gamma will change from 'auto' to 'scale' in version 0.22 to account better for unscaled features. Set gamma explicitly to 'auto' or 'scale' to avoid this warning.\n",
      "  \"avoid this warning.\", FutureWarning)\n"
     ]
    },
    {
     "name": "stdout",
     "output_type": "stream",
     "text": [
      "VotingClassifier_hard is trained successfully\n",
      "Trained 1 models in this iteration of training\n"
     ]
    }
   ],
   "source": [
    "stack_clf2.train(titanic_features, titanic_target)"
   ]
  },
  {
   "cell_type": "code",
   "execution_count": 77,
   "metadata": {},
   "outputs": [
    {
     "data": {
      "image/png": "[encoded data removed]",
      "text/plain": [
       "<Figure size 720x576 with 1 Axes>"
      ]
     },
     "metadata": {},
     "output_type": "display_data"
    }
   ],
   "source": [
    "stack_clf2.evaluate(titanic_features, titanic_target)"
   ]
  },
  {
   "cell_type": "code",
   "execution_count": 78,
   "metadata": {},
   "outputs": [
    {
     "name": "stdout",
     "output_type": "stream",
     "text": [
      "Successfully added 1 models to the stack\n",
      "Total models in the stack are : 7\n"
     ]
    }
   ],
   "source": [
    "#Stacking up the models predictions as a feed to the new model which is a tuned random forest model in this case\n",
    "stack_clf2.add_stack_models([\n",
    "    ('forest_tuned_stack', RandomForestClassifier(), dict(param_grid=dict(     \n",
    "                                max_depth = [n for n in range(9, 14)],     \n",
    "                                min_samples_split = [n for n in range(4, 11)], \n",
    "                                min_samples_leaf = [n for n in range(2, 5)],     \n",
    "                                n_estimators = [n for n in range(10, 60, 10)],\n",
    "                            ), \n",
    "                                                   cv=5, \n",
    "                                                   scoring=None))\n",
    "], ['logistic_regression', 'svm', 'svm_tuned', 'knn', 'forest_tuned'])"
   ]
  },
  {
   "cell_type": "code",
   "execution_count": 79,
   "metadata": {},
   "outputs": [
    {
     "name": "stdout",
     "output_type": "stream",
     "text": [
      "logistic_regression is already in the trained models list. So ignoring this model in this iteration of training\n",
      "svm is already in the trained models list. So ignoring this model in this iteration of training\n",
      "svm_tuned is already in the trained models list. So ignoring this model in this iteration of training\n",
      "knn is already in the trained models list. So ignoring this model in this iteration of training\n",
      "forest_tuned is already in the trained models list. So ignoring this model in this iteration of training\n",
      "VotingClassifier_hard is already in the trained models list. So ignoring this model in this iteration of training\n",
      "forest_tuned_stack is trained successfully\n",
      "Trained 1 models in this iteration of training\n"
     ]
    }
   ],
   "source": [
    "stack_clf2.train(titanic_features, titanic_target)"
   ]
  },
  {
   "cell_type": "code",
   "execution_count": 81,
   "metadata": {},
   "outputs": [
    {
     "data": {
      "image/png": "[encoded data removed]",
      "text/plain": [
       "<Figure size 720x576 with 1 Axes>"
      ]
     },
     "metadata": {},
     "output_type": "display_data"
    }
   ],
   "source": [
    "stack_clf2.evaluate(titanic_features, titanic_target)"
   ]
  },
  {
   "cell_type": "code",
   "execution_count": 82,
   "metadata": {},
   "outputs": [],
   "source": [
    "#Lets predict the values for test set\n",
    "stack_clf2.predictions(titanic_features_test)"
   ]
  },
  {
   "cell_type": "code",
   "execution_count": 83,
   "metadata": {},
   "outputs": [
    {
     "data": {
      "text/html": [
       "<div>\n",
       "<style scoped>\n",
       "    .dataframe tbody tr th:only-of-type {\n",
       "        vertical-align: middle;\n",
       "    }\n",
       "\n",
       "    .dataframe tbody tr th {\n",
       "        vertical-align: top;\n",
       "    }\n",
       "\n",
       "    .dataframe thead th {\n",
       "        text-align: right;\n",
       "    }\n",
       "</style>\n",
       "<table border=\"1\" class=\"dataframe\">\n",
       "  <thead>\n",
       "    <tr style=\"text-align: right;\">\n",
       "      <th></th>\n",
       "      <th>logistic_regression</th>\n",
       "      <th>svm</th>\n",
       "      <th>svm_tuned</th>\n",
       "      <th>knn</th>\n",
       "      <th>forest_tuned</th>\n",
       "      <th>VotingClassifier_hard</th>\n",
       "      <th>forest_tuned_stack</th>\n",
       "    </tr>\n",
       "  </thead>\n",
       "  <tbody>\n",
       "    <tr>\n",
       "      <td>0</td>\n",
       "      <td>0</td>\n",
       "      <td>0</td>\n",
       "      <td>0</td>\n",
       "      <td>0</td>\n",
       "      <td>0</td>\n",
       "      <td>0</td>\n",
       "      <td>0</td>\n",
       "    </tr>\n",
       "    <tr>\n",
       "      <td>1</td>\n",
       "      <td>0</td>\n",
       "      <td>1</td>\n",
       "      <td>1</td>\n",
       "      <td>1</td>\n",
       "      <td>0</td>\n",
       "      <td>1</td>\n",
       "      <td>0</td>\n",
       "    </tr>\n",
       "    <tr>\n",
       "      <td>2</td>\n",
       "      <td>0</td>\n",
       "      <td>0</td>\n",
       "      <td>0</td>\n",
       "      <td>0</td>\n",
       "      <td>0</td>\n",
       "      <td>0</td>\n",
       "      <td>0</td>\n",
       "    </tr>\n",
       "    <tr>\n",
       "      <td>3</td>\n",
       "      <td>0</td>\n",
       "      <td>0</td>\n",
       "      <td>0</td>\n",
       "      <td>0</td>\n",
       "      <td>0</td>\n",
       "      <td>0</td>\n",
       "      <td>0</td>\n",
       "    </tr>\n",
       "    <tr>\n",
       "      <td>4</td>\n",
       "      <td>1</td>\n",
       "      <td>1</td>\n",
       "      <td>1</td>\n",
       "      <td>1</td>\n",
       "      <td>1</td>\n",
       "      <td>1</td>\n",
       "      <td>1</td>\n",
       "    </tr>\n",
       "    <tr>\n",
       "      <td>5</td>\n",
       "      <td>0</td>\n",
       "      <td>0</td>\n",
       "      <td>0</td>\n",
       "      <td>0</td>\n",
       "      <td>0</td>\n",
       "      <td>0</td>\n",
       "      <td>0</td>\n",
       "    </tr>\n",
       "    <tr>\n",
       "      <td>6</td>\n",
       "      <td>1</td>\n",
       "      <td>1</td>\n",
       "      <td>1</td>\n",
       "      <td>1</td>\n",
       "      <td>1</td>\n",
       "      <td>1</td>\n",
       "      <td>1</td>\n",
       "    </tr>\n",
       "    <tr>\n",
       "      <td>7</td>\n",
       "      <td>0</td>\n",
       "      <td>0</td>\n",
       "      <td>0</td>\n",
       "      <td>0</td>\n",
       "      <td>0</td>\n",
       "      <td>0</td>\n",
       "      <td>0</td>\n",
       "    </tr>\n",
       "    <tr>\n",
       "      <td>8</td>\n",
       "      <td>1</td>\n",
       "      <td>1</td>\n",
       "      <td>1</td>\n",
       "      <td>1</td>\n",
       "      <td>1</td>\n",
       "      <td>1</td>\n",
       "      <td>1</td>\n",
       "    </tr>\n",
       "    <tr>\n",
       "      <td>9</td>\n",
       "      <td>0</td>\n",
       "      <td>0</td>\n",
       "      <td>0</td>\n",
       "      <td>0</td>\n",
       "      <td>0</td>\n",
       "      <td>0</td>\n",
       "      <td>0</td>\n",
       "    </tr>\n",
       "    <tr>\n",
       "      <td>10</td>\n",
       "      <td>0</td>\n",
       "      <td>0</td>\n",
       "      <td>0</td>\n",
       "      <td>0</td>\n",
       "      <td>0</td>\n",
       "      <td>0</td>\n",
       "      <td>0</td>\n",
       "    </tr>\n",
       "    <tr>\n",
       "      <td>11</td>\n",
       "      <td>0</td>\n",
       "      <td>0</td>\n",
       "      <td>0</td>\n",
       "      <td>0</td>\n",
       "      <td>0</td>\n",
       "      <td>0</td>\n",
       "      <td>0</td>\n",
       "    </tr>\n",
       "    <tr>\n",
       "      <td>12</td>\n",
       "      <td>1</td>\n",
       "      <td>1</td>\n",
       "      <td>1</td>\n",
       "      <td>1</td>\n",
       "      <td>1</td>\n",
       "      <td>1</td>\n",
       "      <td>1</td>\n",
       "    </tr>\n",
       "    <tr>\n",
       "      <td>13</td>\n",
       "      <td>0</td>\n",
       "      <td>0</td>\n",
       "      <td>0</td>\n",
       "      <td>0</td>\n",
       "      <td>0</td>\n",
       "      <td>0</td>\n",
       "      <td>0</td>\n",
       "    </tr>\n",
       "    <tr>\n",
       "      <td>14</td>\n",
       "      <td>1</td>\n",
       "      <td>1</td>\n",
       "      <td>1</td>\n",
       "      <td>1</td>\n",
       "      <td>1</td>\n",
       "      <td>1</td>\n",
       "      <td>1</td>\n",
       "    </tr>\n",
       "  </tbody>\n",
       "</table>\n",
       "</div>"
      ],
      "text/plain": [
       "    logistic_regression  svm  svm_tuned  knn  forest_tuned  \\\n",
       "0                     0    0          0    0             0   \n",
       "1                     0    1          1    1             0   \n",
       "2                     0    0          0    0             0   \n",
       "3                     0    0          0    0             0   \n",
       "4                     1    1          1    1             1   \n",
       "5                     0    0          0    0             0   \n",
       "6                     1    1          1    1             1   \n",
       "7                     0    0          0    0             0   \n",
       "8                     1    1          1    1             1   \n",
       "9                     0    0          0    0             0   \n",
       "10                    0    0          0    0             0   \n",
       "11                    0    0          0    0             0   \n",
       "12                    1    1          1    1             1   \n",
       "13                    0    0          0    0             0   \n",
       "14                    1    1          1    1             1   \n",
       "\n",
       "    VotingClassifier_hard  forest_tuned_stack  \n",
       "0                       0                   0  \n",
       "1                       1                   0  \n",
       "2                       0                   0  \n",
       "3                       0                   0  \n",
       "4                       1                   1  \n",
       "5                       0                   0  \n",
       "6                       1                   1  \n",
       "7                       0                   0  \n",
       "8                       1                   1  \n",
       "9                       0                   0  \n",
       "10                      0                   0  \n",
       "11                      0                   0  \n",
       "12                      1                   1  \n",
       "13                      0                   0  \n",
       "14                      1                   1  "
      ]
     },
     "execution_count": 83,
     "metadata": {},
     "output_type": "execute_result"
    }
   ],
   "source": [
    "#Lets checkout the predictions\n",
    "my_predictions = stack_clf2.out_predictions\n",
    "my_predictions.head(15)"
   ]
  },
  {
   "cell_type": "code",
   "execution_count": null,
   "metadata": {},
   "outputs": [],
   "source": [
    "#pd.DataFrame({\n",
    "#    'PassengerId': titanic_test.index, \n",
    "#    'Survived': my_predictions['VotingClassifier_hard']\n",
    "#}).to_csv('submission7.csv')\n",
    "#This subimssion scored me highest of all the models I tried out which is around 78% which landed me in Top22% when I submitted\n",
    "#the predictions"
   ]
  }
 ],
 "metadata": {
  "kernelspec": {
   "display_name": "Python 3",
   "language": "python",
   "name": "python3"
  },
  "language_info": {
   "codemirror_mode": {
    "name": "ipython",
    "version": 3
   },
   "file_extension": ".py",
   "mimetype": "text/x-python",
   "name": "python",
   "nbconvert_exporter": "python",
   "pygments_lexer": "ipython3",
   "version": "3.7.4"
  }
 },
 "nbformat": 4,
 "nbformat_minor": 2
}
